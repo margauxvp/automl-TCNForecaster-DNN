{
  "cells": [
    {
      "attachments": {},
      "cell_type": "markdown",
      "source": [
        "Copyright (c) Microsoft Corporation. All rights reserved.\n",
        "\n",
        "Licensed under the MIT License.\n",
        "\n",
        "Some adaptations are made, original source: https://github.com/Azure/azureml-examples/tree/main/sdk/python/jobs/automl-standalone-jobs/automl-forecasting-github-dau"
      ],
      "metadata": {
        "hideCode": false,
        "hidePrompt": false
      }
    },
    {
      "attachments": {},
      "cell_type": "markdown",
      "source": [
        "### **Forecasting using a batch endpoint**"
      ],
      "metadata": {
        "hideCode": false,
        "hidePrompt": false
      }
    },
    {
      "cell_type": "markdown",
      "source": [
        "#### **Preparation**"
      ],
      "metadata": {
        "nteract": {
          "transient": {
            "deleting": false
          }
        }
      }
    },
    {
      "cell_type": "markdown",
      "source": [
        "**import required libraries**"
      ],
      "metadata": {
        "nteract": {
          "transient": {
            "deleting": false
          }
        }
      }
    },
    {
      "cell_type": "code",
      "source": [
        "from azure.ai.ml.constants import AssetTypes, InputOutputModes\n",
        "from azure.ai.ml import Input"
      ],
      "outputs": [],
      "execution_count": 1,
      "metadata": {
        "jupyter": {
          "source_hidden": false,
          "outputs_hidden": false
        },
        "nteract": {
          "transient": {
            "deleting": false
          }
        },
        "gather": {
          "logged": 1695303428046
        }
      }
    },
    {
      "cell_type": "markdown",
      "source": [
        "**import data**\n",
        "\n",
        "\n",
        "We will use github active user (DAU) count for model training. The data is stored in a tabular format.\n",
        "\n",
        "With Azure Machine Learning MLTables you can keep a single copy of data in your storage, easily access data during model training, share data and collaborate with other users. \n",
        "Below, we will upload the data by creating an MLTable to be used for training."
      ],
      "metadata": {
        "nteract": {
          "transient": {
            "deleting": false
          }
        }
      }
    },
    {
      "cell_type": "code",
      "source": [
        "#pip install azureml-dataset-runtime --upgrade\n",
        "\n",
        "from azureml.core import Workspace, Dataset, Experiment \n",
        "ws = Workspace.from_config()\n",
        "test_df = Dataset.get_by_name(ws, name=\"Github_DAU_test\", version=\"1\").to_pandas_dataframe() #uci_electro_small_public_tcn_infer\n",
        "test_df"
      ],
      "outputs": [
        {
          "output_type": "execute_result",
          "execution_count": 2,
          "data": {
            "text/plain": "          date   count  day_of_week  month_of_year  holiday\n0   2017-06-04  104663          6.0            5.0      0.0\n1   2017-06-05  155824          0.0            5.0      0.0\n2   2017-06-06  164908          1.0            5.0      0.0\n3   2017-06-07  170309          2.0            5.0      0.0\n4   2017-06-08  164256          3.0            5.0      0.0\n..         ...     ...          ...            ...      ...\n449 2018-08-27  180142          0.0            7.0      0.0\n450 2018-08-28  191628          1.0            7.0      0.0\n451 2018-08-29  191149          2.0            7.0      0.0\n452 2018-08-30  187503          3.0            7.0      0.0\n453 2018-08-31  172280          4.0            7.0      0.0\n\n[454 rows x 5 columns]",
            "text/html": "<div>\n<style scoped>\n    .dataframe tbody tr th:only-of-type {\n        vertical-align: middle;\n    }\n\n    .dataframe tbody tr th {\n        vertical-align: top;\n    }\n\n    .dataframe thead th {\n        text-align: right;\n    }\n</style>\n<table border=\"1\" class=\"dataframe\">\n  <thead>\n    <tr style=\"text-align: right;\">\n      <th></th>\n      <th>date</th>\n      <th>count</th>\n      <th>day_of_week</th>\n      <th>month_of_year</th>\n      <th>holiday</th>\n    </tr>\n  </thead>\n  <tbody>\n    <tr>\n      <th>0</th>\n      <td>2017-06-04</td>\n      <td>104663</td>\n      <td>6.0</td>\n      <td>5.0</td>\n      <td>0.0</td>\n    </tr>\n    <tr>\n      <th>1</th>\n      <td>2017-06-05</td>\n      <td>155824</td>\n      <td>0.0</td>\n      <td>5.0</td>\n      <td>0.0</td>\n    </tr>\n    <tr>\n      <th>2</th>\n      <td>2017-06-06</td>\n      <td>164908</td>\n      <td>1.0</td>\n      <td>5.0</td>\n      <td>0.0</td>\n    </tr>\n    <tr>\n      <th>3</th>\n      <td>2017-06-07</td>\n      <td>170309</td>\n      <td>2.0</td>\n      <td>5.0</td>\n      <td>0.0</td>\n    </tr>\n    <tr>\n      <th>4</th>\n      <td>2017-06-08</td>\n      <td>164256</td>\n      <td>3.0</td>\n      <td>5.0</td>\n      <td>0.0</td>\n    </tr>\n    <tr>\n      <th>...</th>\n      <td>...</td>\n      <td>...</td>\n      <td>...</td>\n      <td>...</td>\n      <td>...</td>\n    </tr>\n    <tr>\n      <th>449</th>\n      <td>2018-08-27</td>\n      <td>180142</td>\n      <td>0.0</td>\n      <td>7.0</td>\n      <td>0.0</td>\n    </tr>\n    <tr>\n      <th>450</th>\n      <td>2018-08-28</td>\n      <td>191628</td>\n      <td>1.0</td>\n      <td>7.0</td>\n      <td>0.0</td>\n    </tr>\n    <tr>\n      <th>451</th>\n      <td>2018-08-29</td>\n      <td>191149</td>\n      <td>2.0</td>\n      <td>7.0</td>\n      <td>0.0</td>\n    </tr>\n    <tr>\n      <th>452</th>\n      <td>2018-08-30</td>\n      <td>187503</td>\n      <td>3.0</td>\n      <td>7.0</td>\n      <td>0.0</td>\n    </tr>\n    <tr>\n      <th>453</th>\n      <td>2018-08-31</td>\n      <td>172280</td>\n      <td>4.0</td>\n      <td>7.0</td>\n      <td>0.0</td>\n    </tr>\n  </tbody>\n</table>\n<p>454 rows × 5 columns</p>\n</div>"
          },
          "metadata": {}
        }
      ],
      "execution_count": 2,
      "metadata": {
        "jupyter": {
          "source_hidden": false,
          "outputs_hidden": false
        },
        "nteract": {
          "transient": {
            "deleting": false
          }
        },
        "gather": {
          "logged": 1695303466640
        }
      }
    },
    {
      "cell_type": "code",
      "source": [
        "os.makedirs(\"test_dataset\", exist_ok=True)\n",
        "test_df.to_csv(os.path.join(\"test_dataset\", \"test_data.csv\"), index=False)"
      ],
      "outputs": [],
      "execution_count": 3,
      "metadata": {
        "jupyter": {
          "source_hidden": false,
          "outputs_hidden": false
        },
        "nteract": {
          "transient": {
            "deleting": false
          }
        },
        "gather": {
          "logged": 1695303466936
        }
      }
    },
    {
      "cell_type": "code",
      "source": [
        "my_test_data_input = Input(\n",
        "    type=AssetTypes.URI_FOLDER,\n",
        "    path=\"test_dataset/\",\n",
        ")"
      ],
      "outputs": [],
      "execution_count": 4,
      "metadata": {
        "jupyter": {
          "source_hidden": false,
          "outputs_hidden": false
        },
        "nteract": {
          "transient": {
            "deleting": false
          }
        },
        "gather": {
          "logged": 1695303467294
        }
      }
    },
    {
      "cell_type": "code",
      "source": [
        "my_test_data_input"
      ],
      "outputs": [
        {
          "output_type": "execute_result",
          "execution_count": 5,
          "data": {
            "text/plain": "{'type': 'uri_folder', 'path': 'test_dataset/', 'mode': 'ro_mount'}"
          },
          "metadata": {}
        }
      ],
      "execution_count": 5,
      "metadata": {
        "jupyter": {
          "source_hidden": false,
          "outputs_hidden": false
        },
        "nteract": {
          "transient": {
            "deleting": false
          }
        },
        "gather": {
          "logged": 1695303478526
        }
      }
    },
    {
      "cell_type": "code",
      "source": [
        "# general job parameters\n",
        "\n",
        "target_column_name = \"count\"\n",
        "forecast_horizon = 14\n",
        "time_column_name = \"date\""
      ],
      "outputs": [],
      "execution_count": 6,
      "metadata": {
        "gather": {
          "logged": 1695303480167
        }
      }
    },
    {
      "cell_type": "markdown",
      "source": [
        "**Configure workspace details and get a handle to the workspace**\n",
        "\n",
        "To connect to a workspace, we need identifier parameters - a subscription, resource group and workspace name. We will use these details in the `MLClient` from `azure.ai.ml` to get a handle to the required Azure Machine Learning workspace. We use the default [default azure authentication](https://docs.microsoft.com/en-us/python/api/azure-identity/azure.identity.defaultazurecredential?view=azure-python) for this tutorial. Check the [configuration notebook](../../configuration.ipynb) for more details on how to configure credentials and connect to a workspace."
      ],
      "metadata": {
        "nteract": {
          "transient": {
            "deleting": false
          }
        }
      }
    },
    {
      "cell_type": "code",
      "source": [
        "from azure.ai.ml import MLClient\n",
        "from azure.identity import (\n",
        "    DefaultAzureCredential,\n",
        "    AzureCliCredential,\n",
        "    ChainedTokenCredential,\n",
        ")"
      ],
      "outputs": [],
      "execution_count": 7,
      "metadata": {
        "jupyter": {
          "source_hidden": false,
          "outputs_hidden": false
        },
        "nteract": {
          "transient": {
            "deleting": false
          }
        },
        "gather": {
          "logged": 1695244999755
        }
      }
    },
    {
      "cell_type": "code",
      "source": [
        "import os \n",
        "from dotenv import load_dotenv\n",
        "load_dotenv(\"credentials.env\")\n",
        "\n",
        "DEFAULT_CREDENTIAL = DefaultAzureCredential()\n",
        "CLI_CREDENTIAL = AzureCliCredential()\n",
        "CREDENTIAL_CHAIN = ChainedTokenCredential(CLI_CREDENTIAL, DEFAULT_CREDENTIAL)\n",
        "subscription_id = os.environ['SUBSCRIPTION_ID']\n",
        "resource_group = os.environ['RESOURCE_GROUP_NAME']\n",
        "workspace = os.environ['WORKSPACE_NAME']\n",
        "\n",
        "ml_client = MLClient(CREDENTIAL_CHAIN, subscription_id, resource_group, workspace)"
      ],
      "outputs": [],
      "execution_count": 8,
      "metadata": {
        "jupyter": {
          "source_hidden": false,
          "outputs_hidden": false
        },
        "nteract": {
          "transient": {
            "deleting": false
          }
        },
        "gather": {
          "logged": 1695245000547
        }
      }
    },
    {
      "attachments": {},
      "cell_type": "markdown",
      "source": [
        "#### **Forecasting using batch endpoint**\n",
        "\n",
        "Now that we have retrieved the best pipeline/model, it can be used to make predictions on test data. We will do batch scoring on the test dataset which must have the same schema as training dataset.\n",
        "\n",
        "The inference will run on a remote compute. First we need to create compute and then load model and environment from the local file.\n"
      ],
      "metadata": {}
    },
    {
      "cell_type": "markdown",
      "source": [
        "**Is the model registered already?**"
      ],
      "metadata": {
        "nteract": {
          "transient": {
            "deleting": false
          }
        }
      }
    },
    {
      "cell_type": "code",
      "source": [
        "models = ml_client.models.list()\n",
        "for model in models:\n",
        "    print(model.name)"
      ],
      "outputs": [],
      "execution_count": null,
      "metadata": {
        "jupyter": {
          "source_hidden": false,
          "outputs_hidden": false
        },
        "nteract": {
          "transient": {
            "deleting": false
          }
        },
        "gather": {
          "logged": 1695245003735
        }
      }
    },
    {
      "cell_type": "code",
      "source": [
        "model_name = \"TCNForecaster-GitHub-dau\" #\"uci-small-tcn-model-202309141713\"\n",
        "model_version = \"1\"\n",
        "\n",
        "model_example = ml_client.models.get(name= model_name, version = model_version)\n",
        "print(model_example)"
      ],
      "outputs": [],
      "execution_count": null,
      "metadata": {
        "jupyter": {
          "source_hidden": false,
          "outputs_hidden": false
        },
        "nteract": {
          "transient": {
            "deleting": false
          }
        },
        "gather": {
          "logged": 1695245004718
        }
      }
    },
    {
      "cell_type": "markdown",
      "source": [
        "**create model endpoint**"
      ],
      "metadata": {
        "nteract": {
          "transient": {
            "deleting": false
          }
        }
      }
    },
    {
      "cell_type": "markdown",
      "source": [
        "A batch endpoint is an HTTPS endpoint that clients can call to trigger a batch scoring job. A batch scoring job is a job that scores multiple inputs (for more, see What are batch endpoints?). A batch deployment is a set of compute resources hosting the model that does the actual batch scoring. One batch endpoint can have multiple batch deployments."
      ],
      "metadata": {
        "nteract": {
          "transient": {
            "deleting": false
          }
        }
      }
    },
    {
      "cell_type": "code",
      "source": [
        "from azure.ai.ml.constants import BatchDeploymentOutputAction\n",
        "\n",
        "import datetime\n",
        "from azure.ai.ml.entities import (\n",
        "    Environment,\n",
        "    BatchEndpoint,\n",
        "    BatchDeployment,\n",
        "    BatchRetrySettings,\n",
        "    Model,\n",
        ")\n",
        "\n",
        "batch_endpoint_name = \"github-dau-batch-\" + datetime.datetime.now().strftime(\"%m%d%H%M%f\")\n",
        "\n",
        "endpoint = BatchEndpoint(\n",
        "    name=batch_endpoint_name,\n",
        "    description=\"this is a sample batch endpoint\",\n",
        ")"
      ],
      "outputs": [],
      "execution_count": 12,
      "metadata": {
        "jupyter": {
          "source_hidden": false,
          "outputs_hidden": false
        },
        "nteract": {
          "transient": {
            "deleting": false
          }
        },
        "gather": {
          "logged": 1695245009739
        }
      }
    },
    {
      "cell_type": "code",
      "source": [
        "ml_client.begin_create_or_update(endpoint)"
      ],
      "outputs": [],
      "execution_count": null,
      "metadata": {
        "jupyter": {
          "source_hidden": false,
          "outputs_hidden": false
        },
        "nteract": {
          "transient": {
            "deleting": false
          }
        },
        "gather": {
          "logged": 1695245042951
        }
      }
    },
    {
      "cell_type": "markdown",
      "source": [
        "**create batch deployment**\n",
        "\n",
        "To create a batch deployment, we will use the forecasting_script.py which will load the model and will call forecast each time we will envoke the endpoint.\n",
        "\n",
        "A model deployment is a set of resources required for hosting the model that does the actual inferencing. To create a batch model deployment, you need all the following items:\n",
        "\n",
        "A registered model in the workspace.\n",
        "The code to score the model.\n",
        "The environment with the model's dependencies installed.\n",
        "The pre-created compute and resource settings."
      ],
      "metadata": {
        "nteract": {
          "transient": {
            "deleting": false
          }
        }
      }
    },
    {
      "cell_type": "code",
      "source": [
        "env = Environment(\n",
        "    name=\"automl-tabular-env-TCN\",\n",
        "    description=\"environment for automl TCN inference\",\n",
        "    image=\"mcr.microsoft.com/azureml/openmpi4.1.0-cuda11.1-cudnn8-ubuntu18.04:20220930.v1\",\n",
        "    conda_file=\"condafile/conda_env_v_1_0_0.yml\" #comes from model output\n",
        "    )"
      ],
      "outputs": [],
      "execution_count": 14,
      "metadata": {
        "jupyter": {
          "source_hidden": false,
          "outputs_hidden": false
        },
        "nteract": {
          "transient": {
            "deleting": false
          }
        },
        "gather": {
          "logged": 1695245043381
        }
      }
    },
    {
      "cell_type": "code",
      "source": [
        "from azure.core.exceptions import ResourceNotFoundError\n",
        "from azure.ai.ml.entities import AmlCompute\n",
        "\n",
        "compute_name = \"github-cluster-sdkv2\"\n",
        "\n",
        "try:\n",
        "    # Retrieve an already attached Azure Machine Learning Compute.\n",
        "    compute = ml_client.compute.get(compute_name)\n",
        "except ResourceNotFoundError as e:\n",
        "    compute = AmlCompute(\n",
        "        name=compute_name,\n",
        "        size=\"STANDARD_DS12_V2\",\n",
        "        type=\"amlcompute\",\n",
        "        min_instances=0,\n",
        "        max_instances=4,\n",
        "        idle_time_before_scale_down=120,\n",
        "    )\n",
        "    ml_client.begin_create_or_update(compute)"
      ],
      "outputs": [],
      "execution_count": 15,
      "metadata": {
        "gather": {
          "logged": 1695245043734
        }
      }
    },
    {
      "cell_type": "markdown",
      "source": [
        "To create a batch deployment, we will use the forecasting_script.py which will load the model and will call forecast each time we will envoke the endpoint."
      ],
      "metadata": {
        "nteract": {
          "transient": {
            "deleting": false
          }
        }
      }
    },
    {
      "cell_type": "code",
      "source": [
        "output_file = \"forecast.csv\"\n",
        "target_column_name = \"count\"\n",
        "time_column_name = \"date\"\n",
        "\n",
        "model_version = \"1\"\n",
        "\n",
        "batch_deployment = BatchDeployment(\n",
        "    name=\"non-mlflow-deployment\",\n",
        "    description=\"this is a sample non-mlflow deployment\",\n",
        "    endpoint_name=batch_endpoint_name,\n",
        "    model= f\"{model_name}:{model_version}\",\n",
        "    code_path= \"./forecastingscript\", \n",
        "    scoring_script= \"forecasting_script.py\", #don't use the one from model, but from the github samples\n",
        "    environment= env, #'automl-tabular-env-TCN:3',\n",
        "    environment_variables={\n",
        "        \"TARGET_COLUMN_NAME\": target_column_name,\n",
        "    },\n",
        "    compute=compute_name,\n",
        "    instance_count=1,\n",
        "    max_concurrency_per_instance=2,\n",
        "    mini_batch_size=10,\n",
        "    output_action=BatchDeploymentOutputAction.APPEND_ROW,\n",
        "    output_file_name=output_file,\n",
        "    retry_settings=BatchRetrySettings(max_retries=3, timeout=30),\n",
        "    logging_level=\"info\",\n",
        "    properties={\"include_output_header\": \"true\"},\n",
        "    tags={\"include_output_header\": \"true\"},\n",
        ")"
      ],
      "outputs": [],
      "execution_count": 16,
      "metadata": {
        "jupyter": {
          "source_hidden": false,
          "outputs_hidden": false
        },
        "nteract": {
          "transient": {
            "deleting": false
          }
        },
        "gather": {
          "logged": 1695245049720
        }
      }
    },
    {
      "cell_type": "markdown",
      "source": [
        "Start the model deployment"
      ],
      "metadata": {
        "nteract": {
          "transient": {
            "deleting": false
          }
        }
      }
    },
    {
      "cell_type": "code",
      "source": [
        "ml_client.begin_create_or_update(batch_deployment)"
      ],
      "outputs": [],
      "execution_count": null,
      "metadata": {
        "jupyter": {
          "source_hidden": false,
          "outputs_hidden": false
        },
        "nteract": {
          "transient": {
            "deleting": false
          }
        },
        "gather": {
          "logged": 1695245091540
        }
      }
    },
    {
      "cell_type": "markdown",
      "source": [
        "**create an inference job**\n",
        "\n",
        "We need to create the Input, representing URI folder, because the batch endpoint is intended to process multiple files at a time. In this example we will use only one test file, we have uploaded to the blob storage before. This file must be available through the url link."
      ],
      "metadata": {
        "nteract": {
          "transient": {
            "deleting": false
          }
        }
      }
    },
    {
      "cell_type": "code",
      "source": [
        "job = ml_client.batch_endpoints.invoke(\n",
        "    endpoint_name=batch_endpoint_name,\n",
        "    input=my_test_data_input,\n",
        "    deployment_name=\"non-mlflow-deployment\",  # name is required as default deployment is not set\n",
        ")"
      ],
      "outputs": [],
      "execution_count": 18,
      "metadata": {
        "jupyter": {
          "source_hidden": false,
          "outputs_hidden": false
        },
        "nteract": {
          "transient": {
            "deleting": false
          }
        },
        "gather": {
          "logged": 1695245109791
        }
      }
    },
    {
      "cell_type": "markdown",
      "source": [
        "We will stream the job output to monitor the execution."
      ],
      "metadata": {
        "nteract": {
          "transient": {
            "deleting": false
          }
        }
      }
    },
    {
      "cell_type": "code",
      "source": [
        "job_name = job.name\n",
        "batch_job = ml_client.jobs.get(name=job_name)\n",
        "print(batch_job.status)\n",
        "# stream the job logs\n",
        "ml_client.jobs.stream(name=job_name)"
      ],
      "outputs": [],
      "execution_count": null,
      "metadata": {
        "jupyter": {
          "source_hidden": false,
          "outputs_hidden": false
        },
        "nteract": {
          "transient": {
            "deleting": false
          }
        },
        "gather": {
          "logged": 1695246024617
        }
      }
    },
    {
      "cell_type": "markdown",
      "source": [
        "To find output, go to the job > BatchScoring > Ouputs + Logs > 'Show data outputs' and consult in storage explorer."
      ],
      "metadata": {
        "nteract": {
          "transient": {
            "deleting": false
          }
        }
      }
    },
    {
      "cell_type": "code",
      "source": [
        "import pandas as pd \n",
        "\n",
        "fcst_df = pd.read_csv(\"forecast.csv\", parse_dates=[time_column_name, \"forecast_origin\"])\n",
        "fcst_df.head()"
      ],
      "outputs": [
        {
          "output_type": "execute_result",
          "execution_count": 31,
          "data": {
            "text/plain": "  forecast_origin       date   predicted   count\n0      2017-06-03 2017-06-04  103573.664  104663\n1      2017-06-03 2017-06-05  157282.620  155824\n2      2017-06-03 2017-06-06  167806.520  164908\n3      2017-06-03 2017-06-07  167196.300  170309\n4      2017-06-03 2017-06-08  164834.750  164256",
            "text/html": "<div>\n<style scoped>\n    .dataframe tbody tr th:only-of-type {\n        vertical-align: middle;\n    }\n\n    .dataframe tbody tr th {\n        vertical-align: top;\n    }\n\n    .dataframe thead th {\n        text-align: right;\n    }\n</style>\n<table border=\"1\" class=\"dataframe\">\n  <thead>\n    <tr style=\"text-align: right;\">\n      <th></th>\n      <th>forecast_origin</th>\n      <th>date</th>\n      <th>predicted</th>\n      <th>count</th>\n    </tr>\n  </thead>\n  <tbody>\n    <tr>\n      <th>0</th>\n      <td>2017-06-03</td>\n      <td>2017-06-04</td>\n      <td>103573.664</td>\n      <td>104663</td>\n    </tr>\n    <tr>\n      <th>1</th>\n      <td>2017-06-03</td>\n      <td>2017-06-05</td>\n      <td>157282.620</td>\n      <td>155824</td>\n    </tr>\n    <tr>\n      <th>2</th>\n      <td>2017-06-03</td>\n      <td>2017-06-06</td>\n      <td>167806.520</td>\n      <td>164908</td>\n    </tr>\n    <tr>\n      <th>3</th>\n      <td>2017-06-03</td>\n      <td>2017-06-07</td>\n      <td>167196.300</td>\n      <td>170309</td>\n    </tr>\n    <tr>\n      <th>4</th>\n      <td>2017-06-03</td>\n      <td>2017-06-08</td>\n      <td>164834.750</td>\n      <td>164256</td>\n    </tr>\n  </tbody>\n</table>\n</div>"
          },
          "metadata": {}
        }
      ],
      "execution_count": 31,
      "metadata": {
        "jupyter": {
          "source_hidden": false,
          "outputs_hidden": false
        },
        "nteract": {
          "transient": {
            "deleting": false
          }
        },
        "gather": {
          "logged": 1695246774462
        }
      }
    },
    {
      "cell_type": "code",
      "source": [
        "job_name"
      ],
      "outputs": [],
      "execution_count": null,
      "metadata": {
        "jupyter": {
          "source_hidden": false,
          "outputs_hidden": false
        },
        "nteract": {
          "transient": {
            "deleting": false
          }
        },
        "gather": {
          "logged": 1695246807680
        }
      }
    },
    {
      "attachments": {},
      "cell_type": "markdown",
      "source": [
        "**Download the prediction result for metrics calculation**\n",
        "\n",
        "The output of prediction is saved in CSV format. You can use it to calculate test set metrics and plot predictions and actuals over time."
      ],
      "metadata": {}
    },
    {
      "attachments": {},
      "cell_type": "markdown",
      "source": [
        "Note that the rolling forecast can contain multiple predictions for each date, each from a different forecast origin. For example, consider 2017-06-08:"
      ],
      "metadata": {}
    },
    {
      "cell_type": "code",
      "source": [
        "fcst_df[fcst_df.date == \"2017-06-08\"]"
      ],
      "outputs": [
        {
          "output_type": "execute_result",
          "execution_count": 33,
          "data": {
            "text/plain": "   forecast_origin       date  predicted   count\n4       2017-06-03 2017-06-08  164834.75  164256\n17      2017-06-04 2017-06-08  166119.97  164256\n30      2017-06-05 2017-06-08  161916.39  164256\n43      2017-06-06 2017-06-08  161250.38  164256\n56      2017-06-07 2017-06-08  167362.69  164256",
            "text/html": "<div>\n<style scoped>\n    .dataframe tbody tr th:only-of-type {\n        vertical-align: middle;\n    }\n\n    .dataframe tbody tr th {\n        vertical-align: top;\n    }\n\n    .dataframe thead th {\n        text-align: right;\n    }\n</style>\n<table border=\"1\" class=\"dataframe\">\n  <thead>\n    <tr style=\"text-align: right;\">\n      <th></th>\n      <th>forecast_origin</th>\n      <th>date</th>\n      <th>predicted</th>\n      <th>count</th>\n    </tr>\n  </thead>\n  <tbody>\n    <tr>\n      <th>4</th>\n      <td>2017-06-03</td>\n      <td>2017-06-08</td>\n      <td>164834.75</td>\n      <td>164256</td>\n    </tr>\n    <tr>\n      <th>17</th>\n      <td>2017-06-04</td>\n      <td>2017-06-08</td>\n      <td>166119.97</td>\n      <td>164256</td>\n    </tr>\n    <tr>\n      <th>30</th>\n      <td>2017-06-05</td>\n      <td>2017-06-08</td>\n      <td>161916.39</td>\n      <td>164256</td>\n    </tr>\n    <tr>\n      <th>43</th>\n      <td>2017-06-06</td>\n      <td>2017-06-08</td>\n      <td>161250.38</td>\n      <td>164256</td>\n    </tr>\n    <tr>\n      <th>56</th>\n      <td>2017-06-07</td>\n      <td>2017-06-08</td>\n      <td>167362.69</td>\n      <td>164256</td>\n    </tr>\n  </tbody>\n</table>\n</div>"
          },
          "metadata": {}
        }
      ],
      "execution_count": 33,
      "metadata": {
        "gather": {
          "logged": 1695246820755
        }
      }
    },
    {
      "attachments": {},
      "cell_type": "markdown",
      "source": [
        "Here, the forecast origin refers to the latest date of actuals available for a given forecast. The earliest origin in the rolling forecast, 2017-06-03, is the last day in the training data. For origin date 2017-06-04, the forecaster uses actual recorded counts from the training data *and* the actual count recorded on 2017-06-04. Note that the model is not retrained for origin dates later than 2017-06-03, but the prediction context is set to include all known data up to the given origin date.\n",
        "\n",
        "Rolling forecasts are useful for evaluating a forecaster when a relatively long test set is available. Averaging accuracy metrics over many prediction windows gives a more robust estimate of the expected error than a single 14-day-ahead forecast window. When the model meets accuracy requirements, it may be deployed for true forecasting scenarios where the actuals are unknown. See the [automl-forecasting-task-energy-demand](https://github.com/Azure/azureml-examples/blob/main/sdk/python/jobs/automl-standalone-jobs/automl-forecasting-task-energy-demand/automl-forecasting-task-energy-demand-advanced-mlflow.ipynb) notebook for a demonstration of inference that is closer to the true forecasting scenario as opposed to accuracy evaluation here. In summary, we use the `forecast` function in the forecasting scenario and the `rolling_forecast` in an evaluation scenario.  \n",
        "\n",
        "Let's calculate the metrics over all rolling forecasts:"
      ],
      "metadata": {}
    },
    {
      "attachments": {},
      "cell_type": "markdown",
      "source": [
        "**Forecast versus actuals plot**\n",
        "\n",
        "Since the rolling forecast makes multiple predictions for a given date, so we will select the 14-day-ahead forecast from each forecast origin for the purposes of visualization."
      ],
      "metadata": {}
    },
    {
      "cell_type": "code",
      "source": [
        "%matplotlib inline\n",
        "from matplotlib import pyplot as plt\n",
        "\n",
        "fcst_df_h14 = (\n",
        "    fcst_df.groupby(\"forecast_origin\", as_index=False)\n",
        "    .last()\n",
        "    .drop(columns=[\"forecast_origin\"])\n",
        ")\n",
        "plt.plot(fcst_df_h14.set_index(time_column_name))\n",
        "plt.xticks(rotation=45)\n",
        "plt.title(f\"Predicted vs. Actuals\")\n",
        "plt.legend([\"actual\", \"forecast\"])\n",
        "plt.show()"
      ],
      "outputs": [
        {
          "output_type": "display_data",
          "data": {
            "text/plain": "<Figure size 432x288 with 1 Axes>",
            "image/png": "[encoded data removed]"
          },
          "metadata": {
            "needs_background": "light"
          }
        }
      ],
      "execution_count": 38,
      "metadata": {
        "gather": {
          "logged": 1695246996973
        }
      }
    },
    {
      "cell_type": "code",
      "source": [
        "# Delete the batch endpoint and compute. Do not do it occasionally.\n",
        "ml_client.batch_endpoints.begin_delete(name=batch_endpoint_name).wait()\n",
        "ml_client.compute.begin_delete(name=compute_name).wait()"
      ],
      "outputs": [],
      "execution_count": null,
      "metadata": {
        "gather": {
          "logged": 1695205198512
        }
      }
    },
    {
      "attachments": {},
      "cell_type": "markdown",
      "source": [
        "**Deployment**\n",
        "\n",
        "After we have tested our model on the batch endpoint, we may want to deploy it as a service. Currently no code deployment using mlflow is not supported for forecasting tasks and we will use the workaround which is described in the Deployment section of the [automl-forecasting-task-energy-demand](https://github.com/Azure/azureml-examples/blob/main/sdk/python/jobs/automl-standalone-jobs/automl-forecasting-task-energy-demand/automl-forecasting-task-energy-demand-advanced-mlflow.ipynb) notebook."
      ],
      "metadata": {}
    }
  ],
  "metadata": {
    "authors": [
      {
        "name": "jialiu"
      }
    ],
    "vscode": {
      "interpreter": {
        "hash": "05949f3479f4013d8cdcf81c30b0e5ed801a9360182b77ac58fc7c6c004a75e2"
      }
    },
    "microsoft": {
      "ms_spell_check": {
        "ms_spell_check_language": "en"
      },
      "host": {
        "AzureML": {
          "notebookHasBeenCompleted": true
        }
      }
    },
    "kernel_info": {
      "name": "python310-sdkv2"
    },
    "language_info": {
      "name": "python",
      "version": "3.10.4",
      "mimetype": "text/x-python",
      "codemirror_mode": {
        "name": "ipython",
        "version": 3
      },
      "pygments_lexer": "ipython3",
      "nbconvert_exporter": "python",
      "file_extension": ".py"
    },
    "kernelspec": {
      "name": "python310-sdkv2",
      "language": "python",
      "display_name": "Python 3.10 - SDK V2"
    },
    "hide_code_all_hidden": false,
    "nteract": {
      "version": "nteract-front-end@1.0.0"
    }
  },
  "nbformat": 4,
  "nbformat_minor": 4
}