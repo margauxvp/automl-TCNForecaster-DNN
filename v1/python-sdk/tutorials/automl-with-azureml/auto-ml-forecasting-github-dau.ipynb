{
  "cells": [
    {
      "cell_type": "markdown",
      "source": [
        "### **AutoML: Build a TCNForecaster (DNN) model for GitHub DAU Forecasting**"
      ],
      "metadata": {
        "hideCode": false,
        "hidePrompt": false
      }
    },
    {
      "cell_type": "markdown",
      "source": [
        "Copyright (c) Microsoft Corporation. All rights reserved.\n",
        "\n",
        "Licensed under the MIT License.\n",
        "\n",
        "Some adaptations are made, original source: https://github.com/Azure/azureml-examples/blob/main/v1/python-sdk/tutorials/automl-with-azureml/forecasting-github-dau/auto-ml-forecasting-github-dau.ipynb"
      ],
      "metadata": {
        "hideCode": false,
        "hidePrompt": false
      }
    },
    {
      "cell_type": "markdown",
      "source": [
        "#### **Introduction**\n",
        "This notebook demonstrates demand forecasting for Github Daily Active Users Dataset using AutoML.\n",
        "\n",
        "AutoML highlights here include using Deep Learning forecasts, Arima, Prophet,  Remote Execution and Remote Inferencing, and working with the `forecast` function. Please also look at the additional forecasting notebooks, which document lagging, rolling windows, forecast quantiles, other ways to use the forecast function, and forecaster deployment.\n",
        "\n",
        "Notebook synopsis:\n",
        "\n",
        "1. Creating an Experiment in an existing Workspace\n",
        "2. Configuration and remote run of AutoML for a time-series model exploring DNNs\n",
        "3. Evaluating the fitted model using a rolling test \n",
        "4. Model registration\n",
        "\n",
        "code files:\n",
        "- helper.py\n",
        "- infer.py\n",
        "\n",
        "data files: \n",
        "- github_dau_2011-2018_train.csv\n",
        "- github_dau_2011-2018_test.csv"
      ],
      "metadata": {
        "hideCode": false,
        "hidePrompt": false
      }
    },
    {
      "cell_type": "markdown",
      "source": [
        "***\n",
        "#### **Setup**\n"
      ],
      "metadata": {
        "hideCode": false,
        "hidePrompt": false
      }
    },
    {
      "cell_type": "code",
      "source": [
        "import os\n",
        "import azureml.core\n",
        "import pandas as pd\n",
        "import numpy as np\n",
        "import logging\n",
        "import warnings\n",
        "\n",
        "from pandas.tseries.frequencies import to_offset\n",
        "\n",
        "# Squash warning messages for cleaner output in the notebook\n",
        "warnings.showwarning = lambda *args, **kwargs: None\n",
        "\n",
        "from azureml.core import Workspace, Experiment, Dataset\n",
        "from azureml.train.automl import AutoMLConfig\n",
        "from matplotlib import pyplot as plt\n",
        "from sklearn.metrics import mean_absolute_error, mean_squared_error\n",
        "from azureml.train.estimator import Estimator"
      ],
      "outputs": [],
      "execution_count": 1,
      "metadata": {
        "hideCode": false,
        "hidePrompt": false,
        "gather": {
          "logged": 1695301268163
        }
      }
    },
    {
      "cell_type": "markdown",
      "source": [
        "This notebook is compatible with Azure ML SDK version 1.35.0 or later."
      ],
      "metadata": {}
    },
    {
      "cell_type": "code",
      "source": [
        "print(\"You are currently using version\", azureml.core.VERSION, \"of the Azure ML SDK\")"
      ],
      "outputs": [
        {
          "output_type": "stream",
          "name": "stdout",
          "text": "You are currently using version 1.53.0 of the Azure ML SDK\n"
        }
      ],
      "execution_count": 2,
      "metadata": {
        "gather": {
          "logged": 1695301268328
        }
      }
    },
    {
      "cell_type": "markdown",
      "source": [
        "As part of the setup you have already created a <b>Workspace</b>. To run AutoML, you also need to create an <b>Experiment</b>. An Experiment corresponds to a prediction problem you are trying to solve, while a Run corresponds to a specific approach to the problem."
      ],
      "metadata": {
        "hideCode": false,
        "hidePrompt": false
      }
    },
    {
      "cell_type": "code",
      "source": [
        "ws = Workspace.from_config()\n",
        "\n",
        "# choose a name for the run history container in the workspace\n",
        "experiment_name = \"github-remote-cpu-dau\"\n",
        "\n",
        "experiment = Experiment(ws, experiment_name)\n",
        "\n",
        "output = {}\n",
        "#output[\"Subscription ID\"] = ws.subscription_id\n",
        "output[\"Workspace\"] = ws.name\n",
        "output[\"Resource Group\"] = ws.resource_group\n",
        "output[\"Location\"] = ws.location\n",
        "output[\"Run History Name\"] = experiment_name\n",
        "output[\"SDK Version\"] = azureml.core.VERSION\n",
        "pd.set_option(\"display.max_colwidth\", None)\n",
        "outputDf = pd.DataFrame(data=output, index=[\"\"])\n",
        "outputDf.T"
      ],
      "outputs": [
        {
          "output_type": "execute_result",
          "execution_count": 3,
          "data": {
            "text/plain": "                                           \nWorkspace                           amldemo\nResource Group    azuremachinelearning_demo\nLocation                         westeurope\nRun History Name      github-remote-cpu-dau\nSDK Version                          1.53.0",
            "text/html": "<div>\n<style scoped>\n    .dataframe tbody tr th:only-of-type {\n        vertical-align: middle;\n    }\n\n    .dataframe tbody tr th {\n        vertical-align: top;\n    }\n\n    .dataframe thead th {\n        text-align: right;\n    }\n</style>\n<table border=\"1\" class=\"dataframe\">\n  <thead>\n    <tr style=\"text-align: right;\">\n      <th></th>\n      <th></th>\n    </tr>\n  </thead>\n  <tbody>\n    <tr>\n      <th>Workspace</th>\n      <td>amldemo</td>\n    </tr>\n    <tr>\n      <th>Resource Group</th>\n      <td>azuremachinelearning_demo</td>\n    </tr>\n    <tr>\n      <th>Location</th>\n      <td>westeurope</td>\n    </tr>\n    <tr>\n      <th>Run History Name</th>\n      <td>github-remote-cpu-dau</td>\n    </tr>\n    <tr>\n      <th>SDK Version</th>\n      <td>1.53.0</td>\n    </tr>\n  </tbody>\n</table>\n</div>"
          },
          "metadata": {}
        }
      ],
      "execution_count": 3,
      "metadata": {
        "hideCode": false,
        "hidePrompt": false,
        "gather": {
          "logged": 1695301274910
        }
      }
    },
    {
      "cell_type": "markdown",
      "source": [
        "**Using AmlCompute**\n",
        "\n",
        "You will need to create a [compute target](https://docs.microsoft.com/azure/machine-learning/service/concept-azure-machine-learning-architecture#compute-target) for your AutoML run. In this tutorial, you use `AmlCompute` as your training compute resource.\n",
        "\n",
        "> Note that if you have an AzureML Data Scientist role, you will not have permission to create compute resources. Talk to your workspace or IT admin to create the compute targets described in this section, if they do not already exist."
      ],
      "metadata": {
        "hideCode": false,
        "hidePrompt": false
      }
    },
    {
      "cell_type": "code",
      "source": [
        "from azureml.core.compute import ComputeTarget, AmlCompute\n",
        "from azureml.core.compute_target import ComputeTargetException\n",
        "\n",
        "# Choose a name for your CPU cluster\n",
        "cpu_cluster_name = \"github-dau-cluster\"\n",
        "\n",
        "# Verify that cluster does not exist already\n",
        "try:\n",
        "    compute_target = ComputeTarget(workspace=ws, name=cpu_cluster_name)\n",
        "    print(\"Found existing cluster, use it.\")\n",
        "except ComputeTargetException:\n",
        "    compute_config = AmlCompute.provisioning_configuration(\n",
        "        vm_size=\"STANDARD_DS12_V2\", max_nodes=12\n",
        "    )\n",
        "    compute_target = ComputeTarget.create(ws, cpu_cluster_name, compute_config)\n",
        "\n",
        "compute_target.wait_for_completion(show_output=True)"
      ],
      "outputs": [
        {
          "output_type": "stream",
          "name": "stdout",
          "text": "Found existing cluster, use it.\nSucceeded\nAmlCompute wait for completion finished\n\nMinimum number of nodes requested have been provisioned\n"
        }
      ],
      "execution_count": 4,
      "metadata": {
        "hideCode": false,
        "hidePrompt": false,
        "gather": {
          "logged": 1695199001269
        }
      }
    },
    {
      "cell_type": "markdown",
      "source": [
        "***\n",
        "#### **Data**\n",
        "Read Github DAU data from file, and preview data."
      ],
      "metadata": {
        "hideCode": false,
        "hidePrompt": false
      }
    },
    {
      "cell_type": "markdown",
      "source": [
        "Let's set up what we know about the dataset. \n",
        "\n",
        "**Target column** is what we want to forecast.\n",
        "\n",
        "**Time column** is the time axis along which to predict.\n",
        "\n",
        "**Time series identifier columns** are identified by values of the columns listed `time_series_id_column_names`, for example \"store\" and \"item\" if your data has multiple time series of sales, one series for each combination of store and item sold.\n",
        "\n",
        "**Forecast frequency (freq)** This optional parameter represents the period with which the forecast is desired, for example, daily, weekly, yearly, etc. Use this parameter for the correction of time series containing irregular data points or for padding of short time series. The frequency needs to be a pandas offset alias. Please refer to [pandas documentation](https://pandas.pydata.org/pandas-docs/stable/user_guide/timeseries.html#dateoffset-objects) for more information.\n",
        "\n",
        "This dataset has only one time series. Please see the [orange juice notebook](https://github.com/Azure/MachineLearningNotebooks/tree/master/how-to-use-azureml/automated-machine-learning/forecasting-orange-juice-sales) for an example of a multi-time series dataset."
      ],
      "metadata": {
        "hideCode": false,
        "hidePrompt": false
      }
    },
    {
      "cell_type": "code",
      "source": [
        "import pandas as pd\n",
        "from pandas import DataFrame\n",
        "from pandas import Grouper\n",
        "from pandas import concat\n",
        "from pandas.plotting import register_matplotlib_converters\n",
        "\n",
        "register_matplotlib_converters()\n",
        "plt.figure(figsize=(20, 10))\n",
        "plt.tight_layout()\n",
        "\n",
        "plt.subplot(2, 1, 1)\n",
        "plt.title(\"Github Daily Active User By Year\")\n",
        "df = pd.read_csv(\"github_dau_2011-2018_train.csv\", parse_dates=True, index_col=\"date\")\n",
        "test_df = pd.read_csv(\n",
        "    \"github_dau_2011-2018_test.csv\", parse_dates=True, index_col=\"date\"\n",
        ")\n",
        "plt.plot(df)\n",
        "\n",
        "plt.subplot(2, 1, 2)\n",
        "plt.title(\"Github Daily Active User By Month\")\n",
        "groups = df.groupby(df.index.month)\n",
        "months = concat([DataFrame(x[1].values) for x in groups], axis=1)\n",
        "months = DataFrame(months)\n",
        "months.columns = range(1, 49)\n",
        "months.boxplot()\n",
        "\n",
        "plt.show()"
      ],
      "outputs": [
        {
          "output_type": "display_data",
          "data": {
            "text/plain": "<Figure size 1440x720 with 2 Axes>",
            "image/png": "[encoded data removed]"
          },
          "metadata": {
            "needs_background": "light"
          }
        }
      ],
      "execution_count": 5,
      "metadata": {
        "hideCode": false,
        "hidePrompt": false,
        "gather": {
          "logged": 1695199002581
        }
      }
    },
    {
      "cell_type": "code",
      "source": [
        "target_column_name = \"count\"\n",
        "time_column_name = \"date\"\n",
        "time_series_id_column_names = []\n",
        "freq = \"D\"  # Daily data"
      ],
      "outputs": [],
      "execution_count": 6,
      "metadata": {
        "hideCode": false,
        "hidePrompt": false,
        "gather": {
          "logged": 1695199002795
        }
      }
    },
    {
      "cell_type": "markdown",
      "source": [
        "**Split Training data into Train and Validation set and Upload to Datastores**"
      ],
      "metadata": {}
    },
    {
      "cell_type": "code",
      "source": [
        "from helper import split_fraction_by_grain\n",
        "from helper import split_full_for_forecasting\n",
        "\n",
        "train, valid = split_full_for_forecasting(df, time_column_name)\n",
        "\n",
        "# Reset index to create a Tabualr Dataset.\n",
        "train.reset_index(inplace=True)\n",
        "valid.reset_index(inplace=True)\n",
        "test_df.reset_index(inplace=True)\n",
        "\n",
        "datastore = ws.get_default_datastore()\n",
        "train_dataset = Dataset.Tabular.register_pandas_dataframe(\n",
        "    train, target=(datastore, \"dataset/\"), name=\"Github_DAU_train\"\n",
        ")\n",
        "valid_dataset = Dataset.Tabular.register_pandas_dataframe(\n",
        "    valid, target=(datastore, \"dataset/\"), name=\"Github_DAU_valid\"\n",
        ")\n",
        "test_dataset = Dataset.Tabular.register_pandas_dataframe(\n",
        "    test_df, target=(datastore, \"dataset/\"), name=\"Github_DAU_test\"\n",
        ")"
      ],
      "outputs": [
        {
          "output_type": "stream",
          "name": "stdout",
          "text": "Validating arguments.\nArguments validated.\nSuccessfully obtained datastore reference and path.\nUploading file to dataset//8fd1ba84-6195-4ed6-96fe-eafe7401e22b/\nSuccessfully uploaded file to datastore.\nCreating and registering a new dataset.\nSuccessfully created and registered a new dataset.\nValidating arguments.\nArguments validated.\nSuccessfully obtained datastore reference and path.\nUploading file to dataset//788c06e6-40c2-46de-bcb9-6a4dd9d8db2e/\nSuccessfully uploaded file to datastore.\nCreating and registering a new dataset.\nSuccessfully created and registered a new dataset.\nValidating arguments.\nArguments validated.\nSuccessfully obtained datastore reference and path.\nUploading file to dataset//f5148828-4b55-41e2-bf89-b83379d65097/\nSuccessfully uploaded file to datastore.\nCreating and registering a new dataset.\nSuccessfully created and registered a new dataset.\n"
        }
      ],
      "execution_count": 7,
      "metadata": {
        "hideCode": false,
        "hidePrompt": false,
        "gather": {
          "logged": 1695128500561
        }
      }
    },
    {
      "cell_type": "markdown",
      "source": [
        "**Setting forecaster maximum horizon** \n",
        "\n",
        "The forecast horizon is the number of periods into the future that the model should predict. Here, we set the horizon to 14 periods (i.e. 14 days). Notice that this is much shorter than the number of months in the test set; we will need to use a rolling test to evaluate the performance on the whole test set. For more discussion of forecast horizons and guiding principles for setting them, please see the [energy demand notebook](https://github.com/Azure/MachineLearningNotebooks/tree/master/how-to-use-azureml/automated-machine-learning/forecasting-energy-demand).  "
      ],
      "metadata": {
        "hideCode": false,
        "hidePrompt": false
      }
    },
    {
      "cell_type": "code",
      "source": [
        "forecast_horizon = 14"
      ],
      "outputs": [],
      "execution_count": 7,
      "metadata": {
        "hideCode": false,
        "hidePrompt": false,
        "gather": {
          "logged": 1695140546050
        }
      }
    },
    {
      "cell_type": "markdown",
      "source": [
        "***\n",
        "#### **Train**\n",
        "\n",
        "Instantiate a AutoMLConfig object. This defines the settings and data used to run the experiment.\n",
        "\n",
        "|Property|Description|\n",
        "|-|-|\n",
        "|**task**|forecasting|\n",
        "|**primary_metric**|This is the metric that you want to optimize.<br> Forecasting supports the following primary metrics <br><i>spearman_correlation</i><br><i>normalized_root_mean_squared_error</i><br><i>r2_score</i><br><i>normalized_mean_absolute_error</i>\n",
        "|**iteration_timeout_minutes**|Time limit in minutes for each iteration.|\n",
        "|**training_data**|Input dataset, containing both features and label column.|\n",
        "|**label_column_name**|The name of the label column.|\n",
        "|**enable_dnn**|Enable Forecasting DNNs|\n"
      ],
      "metadata": {
        "hideCode": false,
        "hidePrompt": false
      }
    },
    {
      "cell_type": "code",
      "source": [
        "from azureml.automl.core.forecasting_parameters import ForecastingParameters\n",
        "\n",
        "forecasting_parameters = ForecastingParameters(\n",
        "    time_column_name=time_column_name,\n",
        "    forecast_horizon=forecast_horizon,\n",
        "    freq=\"D\",  # Set the forecast frequency to be daily\n",
        ")\n",
        "\n",
        "# To only allow the TCNForecaster we set the allowed_models parameter to reflect this.\n",
        "automl_config = AutoMLConfig(\n",
        "    task=\"forecasting\",\n",
        "    primary_metric=\"normalized_root_mean_squared_error\",\n",
        "    experiment_timeout_hours=1,\n",
        "    training_data=train_dataset,\n",
        "    label_column_name=target_column_name,\n",
        "    validation_data=valid_dataset,\n",
        "    enable_early_stopping=True,\n",
        "    verbosity=logging.INFO,\n",
        "    compute_target=compute_target,\n",
        "    max_concurrent_iterations=12,\n",
        "    max_cores_per_iteration=-1,\n",
        "    enable_dnn=True,\n",
        "    allowed_models=[\"TCNForecaster\"],\n",
        "    forecasting_parameters=forecasting_parameters,\n",
        ")"
      ],
      "outputs": [],
      "execution_count": 16,
      "metadata": {
        "hideCode": false,
        "hidePrompt": false,
        "gather": {
          "logged": 1695133252022
        }
      }
    },
    {
      "cell_type": "markdown",
      "source": [
        "We will now run the experiment, starting with 10 iterations of model search. The experiment can be continued for more iterations if more accurate results are required. Validation errors and current status will be shown when setting `show_output=True` and the execution will be synchronous."
      ],
      "metadata": {
        "hideCode": false,
        "hidePrompt": false
      }
    },
    {
      "cell_type": "code",
      "source": [
        "remote_run = experiment.submit(automl_config, show_output=True)"
      ],
      "outputs": [],
      "execution_count": null,
      "metadata": {
        "hideCode": false,
        "hidePrompt": false,
        "gather": {
          "logged": 1695136986997
        }
      }
    },
    {
      "cell_type": "code",
      "source": [
        "# If you need to retrieve a run that already started, use the following code\n",
        "# from azureml.train.automl.run import AutoMLRun\n",
        "# remote_run = AutoMLRun(experiment = experiment, run_id = '<replace with your run id>')"
      ],
      "outputs": [],
      "execution_count": null,
      "metadata": {
        "hideCode": false,
        "hidePrompt": false
      }
    },
    {
      "cell_type": "markdown",
      "source": [
        "Displaying the run objects gives you links to the visual tools in the Azure Portal. Go try them!"
      ],
      "metadata": {
        "hideCode": false,
        "hidePrompt": false
      }
    },
    {
      "cell_type": "markdown",
      "source": [
        "**Retrieve the Best Model for Each Algorithm**\n",
        "\n",
        "Below we select the best pipeline from our iterations. The get_output method on automl_classifier returns the best run and the fitted model for the last fit invocation. There are overloads on get_output that allow you to retrieve the best run and fitted model for any logged metric or a particular iteration."
      ],
      "metadata": {
        "hideCode": false,
        "hidePrompt": false
      }
    },
    {
      "cell_type": "code",
      "source": [
        "from helper import get_result_df\n",
        "\n",
        "summary_df = get_result_df(remote_run)\n",
        "summary_df"
      ],
      "outputs": [
        {
          "output_type": "execute_result",
          "execution_count": 18,
          "data": {
            "text/plain": "                                                          run_id  \\\nrun_algorithm                                                      \nTCNForecaster  AutoML_239689e5-2280-4cd2-bbaa-b0273aa262a2_HD_13   \nTCNForecaster  AutoML_239689e5-2280-4cd2-bbaa-b0273aa262a2_HD_23   \nTCNForecaster  AutoML_239689e5-2280-4cd2-bbaa-b0273aa262a2_HD_22   \nTCNForecaster  AutoML_239689e5-2280-4cd2-bbaa-b0273aa262a2_HD_10   \nTCNForecaster   AutoML_239689e5-2280-4cd2-bbaa-b0273aa262a2_HD_9   \nTCNForecaster  AutoML_239689e5-2280-4cd2-bbaa-b0273aa262a2_HD_34   \nTCNForecaster  AutoML_239689e5-2280-4cd2-bbaa-b0273aa262a2_HD_36   \nTCNForecaster   AutoML_239689e5-2280-4cd2-bbaa-b0273aa262a2_HD_1   \nTCNForecaster  AutoML_239689e5-2280-4cd2-bbaa-b0273aa262a2_HD_33   \nTCNForecaster   AutoML_239689e5-2280-4cd2-bbaa-b0273aa262a2_HD_4   \nTCNForecaster  AutoML_239689e5-2280-4cd2-bbaa-b0273aa262a2_HD_35   \nTCNForecaster   AutoML_239689e5-2280-4cd2-bbaa-b0273aa262a2_HD_2   \nTCNForecaster  AutoML_239689e5-2280-4cd2-bbaa-b0273aa262a2_HD_32   \nTCNForecaster  AutoML_239689e5-2280-4cd2-bbaa-b0273aa262a2_HD_25   \nTCNForecaster  AutoML_239689e5-2280-4cd2-bbaa-b0273aa262a2_HD_27   \nTCNForecaster  AutoML_239689e5-2280-4cd2-bbaa-b0273aa262a2_HD_19   \nTCNForecaster   AutoML_239689e5-2280-4cd2-bbaa-b0273aa262a2_HD_5   \nTCNForecaster  AutoML_239689e5-2280-4cd2-bbaa-b0273aa262a2_HD_18   \nTCNForecaster  AutoML_239689e5-2280-4cd2-bbaa-b0273aa262a2_HD_31   \nTCNForecaster  AutoML_239689e5-2280-4cd2-bbaa-b0273aa262a2_HD_12   \nTCNForecaster  AutoML_239689e5-2280-4cd2-bbaa-b0273aa262a2_HD_16   \nTCNForecaster  AutoML_239689e5-2280-4cd2-bbaa-b0273aa262a2_HD_21   \nTCNForecaster   AutoML_239689e5-2280-4cd2-bbaa-b0273aa262a2_HD_8   \nTCNForecaster  AutoML_239689e5-2280-4cd2-bbaa-b0273aa262a2_HD_26   \nTCNForecaster  AutoML_239689e5-2280-4cd2-bbaa-b0273aa262a2_HD_28   \nTCNForecaster   AutoML_239689e5-2280-4cd2-bbaa-b0273aa262a2_HD_6   \nTCNForecaster  AutoML_239689e5-2280-4cd2-bbaa-b0273aa262a2_HD_24   \nTCNForecaster  AutoML_239689e5-2280-4cd2-bbaa-b0273aa262a2_HD_15   \nTCNForecaster  AutoML_239689e5-2280-4cd2-bbaa-b0273aa262a2_HD_29   \nTCNForecaster  AutoML_239689e5-2280-4cd2-bbaa-b0273aa262a2_HD_30   \n\n                                   primary_metric      Score  \nrun_algorithm                                                 \nTCNForecaster  normalized_root_mean_squared_error   0.172796  \nTCNForecaster  normalized_root_mean_squared_error   0.168335  \nTCNForecaster  normalized_root_mean_squared_error   0.167846  \nTCNForecaster  normalized_root_mean_squared_error   0.164112  \nTCNForecaster  normalized_root_mean_squared_error   0.162612  \nTCNForecaster  normalized_root_mean_squared_error   0.129918  \nTCNForecaster  normalized_root_mean_squared_error  0.0527051  \nTCNForecaster  normalized_root_mean_squared_error   0.048723  \nTCNForecaster  normalized_root_mean_squared_error  0.0466839  \nTCNForecaster  normalized_root_mean_squared_error  0.0448165  \nTCNForecaster  normalized_root_mean_squared_error  0.0439162  \nTCNForecaster  normalized_root_mean_squared_error  0.0436011  \nTCNForecaster  normalized_root_mean_squared_error   0.040988  \nTCNForecaster  normalized_root_mean_squared_error  0.0391206  \nTCNForecaster  normalized_root_mean_squared_error  0.0384155  \nTCNForecaster  normalized_root_mean_squared_error  0.0375203  \nTCNForecaster  normalized_root_mean_squared_error  0.0372646  \nTCNForecaster  normalized_root_mean_squared_error  0.0371627  \nTCNForecaster  normalized_root_mean_squared_error  0.0367875  \nTCNForecaster  normalized_root_mean_squared_error  0.0367796  \nTCNForecaster  normalized_root_mean_squared_error  0.0360893  \nTCNForecaster  normalized_root_mean_squared_error  0.0359306  \nTCNForecaster  normalized_root_mean_squared_error  0.0356391  \nTCNForecaster  normalized_root_mean_squared_error  0.0346883  \nTCNForecaster  normalized_root_mean_squared_error  0.0346514  \nTCNForecaster  normalized_root_mean_squared_error  0.0343175  \nTCNForecaster  normalized_root_mean_squared_error  0.0339254  \nTCNForecaster  normalized_root_mean_squared_error  0.0338852  \nTCNForecaster  normalized_root_mean_squared_error   0.033356  \nTCNForecaster  normalized_root_mean_squared_error  0.0330271  ",
            "text/html": "<div>\n<style scoped>\n    .dataframe tbody tr th:only-of-type {\n        vertical-align: middle;\n    }\n\n    .dataframe tbody tr th {\n        vertical-align: top;\n    }\n\n    .dataframe thead th {\n        text-align: right;\n    }\n</style>\n<table border=\"1\" class=\"dataframe\">\n  <thead>\n    <tr style=\"text-align: right;\">\n      <th></th>\n      <th>run_id</th>\n      <th>primary_metric</th>\n      <th>Score</th>\n    </tr>\n    <tr>\n      <th>run_algorithm</th>\n      <th></th>\n      <th></th>\n      <th></th>\n    </tr>\n  </thead>\n  <tbody>\n    <tr>\n      <th>TCNForecaster</th>\n      <td>AutoML_239689e5-2280-4cd2-bbaa-b0273aa262a2_HD_13</td>\n      <td>normalized_root_mean_squared_error</td>\n      <td>0.172796</td>\n    </tr>\n    <tr>\n      <th>TCNForecaster</th>\n      <td>AutoML_239689e5-2280-4cd2-bbaa-b0273aa262a2_HD_23</td>\n      <td>normalized_root_mean_squared_error</td>\n      <td>0.168335</td>\n    </tr>\n    <tr>\n      <th>TCNForecaster</th>\n      <td>AutoML_239689e5-2280-4cd2-bbaa-b0273aa262a2_HD_22</td>\n      <td>normalized_root_mean_squared_error</td>\n      <td>0.167846</td>\n    </tr>\n    <tr>\n      <th>TCNForecaster</th>\n      <td>AutoML_239689e5-2280-4cd2-bbaa-b0273aa262a2_HD_10</td>\n      <td>normalized_root_mean_squared_error</td>\n      <td>0.164112</td>\n    </tr>\n    <tr>\n      <th>TCNForecaster</th>\n      <td>AutoML_239689e5-2280-4cd2-bbaa-b0273aa262a2_HD_9</td>\n      <td>normalized_root_mean_squared_error</td>\n      <td>0.162612</td>\n    </tr>\n    <tr>\n      <th>TCNForecaster</th>\n      <td>AutoML_239689e5-2280-4cd2-bbaa-b0273aa262a2_HD_34</td>\n      <td>normalized_root_mean_squared_error</td>\n      <td>0.129918</td>\n    </tr>\n    <tr>\n      <th>TCNForecaster</th>\n      <td>AutoML_239689e5-2280-4cd2-bbaa-b0273aa262a2_HD_36</td>\n      <td>normalized_root_mean_squared_error</td>\n      <td>0.0527051</td>\n    </tr>\n    <tr>\n      <th>TCNForecaster</th>\n      <td>AutoML_239689e5-2280-4cd2-bbaa-b0273aa262a2_HD_1</td>\n      <td>normalized_root_mean_squared_error</td>\n      <td>0.048723</td>\n    </tr>\n    <tr>\n      <th>TCNForecaster</th>\n      <td>AutoML_239689e5-2280-4cd2-bbaa-b0273aa262a2_HD_33</td>\n      <td>normalized_root_mean_squared_error</td>\n      <td>0.0466839</td>\n    </tr>\n    <tr>\n      <th>TCNForecaster</th>\n      <td>AutoML_239689e5-2280-4cd2-bbaa-b0273aa262a2_HD_4</td>\n      <td>normalized_root_mean_squared_error</td>\n      <td>0.0448165</td>\n    </tr>\n    <tr>\n      <th>TCNForecaster</th>\n      <td>AutoML_239689e5-2280-4cd2-bbaa-b0273aa262a2_HD_35</td>\n      <td>normalized_root_mean_squared_error</td>\n      <td>0.0439162</td>\n    </tr>\n    <tr>\n      <th>TCNForecaster</th>\n      <td>AutoML_239689e5-2280-4cd2-bbaa-b0273aa262a2_HD_2</td>\n      <td>normalized_root_mean_squared_error</td>\n      <td>0.0436011</td>\n    </tr>\n    <tr>\n      <th>TCNForecaster</th>\n      <td>AutoML_239689e5-2280-4cd2-bbaa-b0273aa262a2_HD_32</td>\n      <td>normalized_root_mean_squared_error</td>\n      <td>0.040988</td>\n    </tr>\n    <tr>\n      <th>TCNForecaster</th>\n      <td>AutoML_239689e5-2280-4cd2-bbaa-b0273aa262a2_HD_25</td>\n      <td>normalized_root_mean_squared_error</td>\n      <td>0.0391206</td>\n    </tr>\n    <tr>\n      <th>TCNForecaster</th>\n      <td>AutoML_239689e5-2280-4cd2-bbaa-b0273aa262a2_HD_27</td>\n      <td>normalized_root_mean_squared_error</td>\n      <td>0.0384155</td>\n    </tr>\n    <tr>\n      <th>TCNForecaster</th>\n      <td>AutoML_239689e5-2280-4cd2-bbaa-b0273aa262a2_HD_19</td>\n      <td>normalized_root_mean_squared_error</td>\n      <td>0.0375203</td>\n    </tr>\n    <tr>\n      <th>TCNForecaster</th>\n      <td>AutoML_239689e5-2280-4cd2-bbaa-b0273aa262a2_HD_5</td>\n      <td>normalized_root_mean_squared_error</td>\n      <td>0.0372646</td>\n    </tr>\n    <tr>\n      <th>TCNForecaster</th>\n      <td>AutoML_239689e5-2280-4cd2-bbaa-b0273aa262a2_HD_18</td>\n      <td>normalized_root_mean_squared_error</td>\n      <td>0.0371627</td>\n    </tr>\n    <tr>\n      <th>TCNForecaster</th>\n      <td>AutoML_239689e5-2280-4cd2-bbaa-b0273aa262a2_HD_31</td>\n      <td>normalized_root_mean_squared_error</td>\n      <td>0.0367875</td>\n    </tr>\n    <tr>\n      <th>TCNForecaster</th>\n      <td>AutoML_239689e5-2280-4cd2-bbaa-b0273aa262a2_HD_12</td>\n      <td>normalized_root_mean_squared_error</td>\n      <td>0.0367796</td>\n    </tr>\n    <tr>\n      <th>TCNForecaster</th>\n      <td>AutoML_239689e5-2280-4cd2-bbaa-b0273aa262a2_HD_16</td>\n      <td>normalized_root_mean_squared_error</td>\n      <td>0.0360893</td>\n    </tr>\n    <tr>\n      <th>TCNForecaster</th>\n      <td>AutoML_239689e5-2280-4cd2-bbaa-b0273aa262a2_HD_21</td>\n      <td>normalized_root_mean_squared_error</td>\n      <td>0.0359306</td>\n    </tr>\n    <tr>\n      <th>TCNForecaster</th>\n      <td>AutoML_239689e5-2280-4cd2-bbaa-b0273aa262a2_HD_8</td>\n      <td>normalized_root_mean_squared_error</td>\n      <td>0.0356391</td>\n    </tr>\n    <tr>\n      <th>TCNForecaster</th>\n      <td>AutoML_239689e5-2280-4cd2-bbaa-b0273aa262a2_HD_26</td>\n      <td>normalized_root_mean_squared_error</td>\n      <td>0.0346883</td>\n    </tr>\n    <tr>\n      <th>TCNForecaster</th>\n      <td>AutoML_239689e5-2280-4cd2-bbaa-b0273aa262a2_HD_28</td>\n      <td>normalized_root_mean_squared_error</td>\n      <td>0.0346514</td>\n    </tr>\n    <tr>\n      <th>TCNForecaster</th>\n      <td>AutoML_239689e5-2280-4cd2-bbaa-b0273aa262a2_HD_6</td>\n      <td>normalized_root_mean_squared_error</td>\n      <td>0.0343175</td>\n    </tr>\n    <tr>\n      <th>TCNForecaster</th>\n      <td>AutoML_239689e5-2280-4cd2-bbaa-b0273aa262a2_HD_24</td>\n      <td>normalized_root_mean_squared_error</td>\n      <td>0.0339254</td>\n    </tr>\n    <tr>\n      <th>TCNForecaster</th>\n      <td>AutoML_239689e5-2280-4cd2-bbaa-b0273aa262a2_HD_15</td>\n      <td>normalized_root_mean_squared_error</td>\n      <td>0.0338852</td>\n    </tr>\n    <tr>\n      <th>TCNForecaster</th>\n      <td>AutoML_239689e5-2280-4cd2-bbaa-b0273aa262a2_HD_29</td>\n      <td>normalized_root_mean_squared_error</td>\n      <td>0.033356</td>\n    </tr>\n    <tr>\n      <th>TCNForecaster</th>\n      <td>AutoML_239689e5-2280-4cd2-bbaa-b0273aa262a2_HD_30</td>\n      <td>normalized_root_mean_squared_error</td>\n      <td>0.0330271</td>\n    </tr>\n  </tbody>\n</table>\n</div>"
          },
          "metadata": {}
        }
      ],
      "execution_count": 18,
      "metadata": {
        "hideCode": false,
        "hidePrompt": false,
        "gather": {
          "logged": 1695136987819
        }
      }
    },
    {
      "cell_type": "code",
      "source": [
        "from azureml.core.run import Run\n",
        "from azureml.widgets import RunDetails\n",
        "\n",
        "forecast_model = \"TCNForecaster\"\n",
        "if not forecast_model in summary_df[\"run_id\"]:\n",
        "    forecast_model = \"ForecastTCN\"\n",
        "\n",
        "best_dnn_run_id = summary_df[summary_df[\"Score\"] == summary_df[\"Score\"].min()][\n",
        "    \"run_id\"\n",
        "][forecast_model]\n",
        "\n",
        "best_dnn_run = Run(experiment, best_dnn_run_id)"
      ],
      "outputs": [],
      "execution_count": 30,
      "metadata": {
        "jupyter": {
          "source_hidden": false,
          "outputs_hidden": false
        },
        "nteract": {
          "transient": {
            "deleting": false
          }
        },
        "gather": {
          "logged": 1695137202855
        }
      }
    },
    {
      "cell_type": "code",
      "source": [
        "# CHECKPOINT \n",
        "from azureml.core.run import Run\n",
        "from azureml.widgets import RunDetails\n",
        "\n",
        "ws = Workspace.from_config()\n",
        "\n",
        "# choose a name for the run history container in the workspace\n",
        "experiment_name = \"github-remote-cpu-dau\"\n",
        "experiment = Experiment(ws, experiment_name)\n",
        "\n",
        "best_dnn_run_id = \"AutoML_239689e5-2280-4cd2-bbaa-b0273aa262a2_HD_30\"\n",
        "best_dnn_run = Run(experiment, best_dnn_run_id)"
      ],
      "outputs": [],
      "execution_count": 7,
      "metadata": {
        "jupyter": {
          "source_hidden": false,
          "outputs_hidden": false
        },
        "nteract": {
          "transient": {
            "deleting": false
          }
        },
        "gather": {
          "logged": 1695199003807
        }
      }
    },
    {
      "cell_type": "markdown",
      "source": [
        "***\n",
        "#### **Simple evaluation on Test Data**\n",
        "\n",
        "Interesting read: https://learn.microsoft.com/en-us/AZURE/machine-learning/how-to-configure-auto-train?view=azureml-api-1&tabs=python#test-models-preview"
      ],
      "metadata": {
        "hideCode": false,
        "hidePrompt": false
      }
    },
    {
      "cell_type": "markdown",
      "source": [
        "We now use the best fitted model from the AutoML Run to make forecasts for the test set.  \n",
        "\n",
        "We always score on the original dataset whose schema matches the training set schema."
      ],
      "metadata": {
        "hideCode": false,
        "hidePrompt": false
      }
    },
    {
      "cell_type": "code",
      "source": [
        "test_dataset = Dataset.get_by_name(ws, name=\"Github_DAU_test\", version=\"1\")"
      ],
      "outputs": [],
      "execution_count": 76,
      "metadata": {
        "jupyter": {
          "source_hidden": false,
          "outputs_hidden": false
        },
        "nteract": {
          "transient": {
            "deleting": false
          }
        },
        "gather": {
          "logged": 1695153035293
        }
      }
    },
    {
      "cell_type": "code",
      "source": [
        "# preview the first 3 rows of the dataset\n",
        "test_dataset.take(5).to_pandas_dataframe()"
      ],
      "outputs": [
        {
          "output_type": "execute_result",
          "execution_count": 77,
          "data": {
            "text/plain": "        date   count  day_of_week  month_of_year  holiday\n0 2017-06-04  104663          6.0            5.0      0.0\n1 2017-06-05  155824          0.0            5.0      0.0\n2 2017-06-06  164908          1.0            5.0      0.0\n3 2017-06-07  170309          2.0            5.0      0.0\n4 2017-06-08  164256          3.0            5.0      0.0",
            "text/html": "<div>\n<style scoped>\n    .dataframe tbody tr th:only-of-type {\n        vertical-align: middle;\n    }\n\n    .dataframe tbody tr th {\n        vertical-align: top;\n    }\n\n    .dataframe thead th {\n        text-align: right;\n    }\n</style>\n<table border=\"1\" class=\"dataframe\">\n  <thead>\n    <tr style=\"text-align: right;\">\n      <th></th>\n      <th>date</th>\n      <th>count</th>\n      <th>day_of_week</th>\n      <th>month_of_year</th>\n      <th>holiday</th>\n    </tr>\n  </thead>\n  <tbody>\n    <tr>\n      <th>0</th>\n      <td>2017-06-04</td>\n      <td>104663</td>\n      <td>6.0</td>\n      <td>5.0</td>\n      <td>0.0</td>\n    </tr>\n    <tr>\n      <th>1</th>\n      <td>2017-06-05</td>\n      <td>155824</td>\n      <td>0.0</td>\n      <td>5.0</td>\n      <td>0.0</td>\n    </tr>\n    <tr>\n      <th>2</th>\n      <td>2017-06-06</td>\n      <td>164908</td>\n      <td>1.0</td>\n      <td>5.0</td>\n      <td>0.0</td>\n    </tr>\n    <tr>\n      <th>3</th>\n      <td>2017-06-07</td>\n      <td>170309</td>\n      <td>2.0</td>\n      <td>5.0</td>\n      <td>0.0</td>\n    </tr>\n    <tr>\n      <th>4</th>\n      <td>2017-06-08</td>\n      <td>164256</td>\n      <td>3.0</td>\n      <td>5.0</td>\n      <td>0.0</td>\n    </tr>\n  </tbody>\n</table>\n</div>"
          },
          "metadata": {}
        }
      ],
      "execution_count": 77,
      "metadata": {
        "hideCode": false,
        "hidePrompt": false,
        "gather": {
          "logged": 1695153035833
        }
      }
    },
    {
      "cell_type": "code",
      "source": [
        "compute_target = ws.compute_targets[\"github-dau-cluster\"]\n",
        "test_experiment = Experiment(ws, experiment_name + \"_test\")"
      ],
      "outputs": [],
      "execution_count": 78,
      "metadata": {
        "gather": {
          "logged": 1695153040191
        }
      }
    },
    {
      "cell_type": "code",
      "source": [
        "import os\n",
        "import shutil\n",
        "\n",
        "script_folder = os.path.join(os.getcwd(), \"inference\")\n",
        "os.makedirs(script_folder, exist_ok=True)\n",
        "shutil.copy(\"infer.py\", script_folder)"
      ],
      "outputs": [],
      "execution_count": null,
      "metadata": {
        "hideCode": false,
        "hidePrompt": false,
        "gather": {
          "logged": 1695153040912
        }
      }
    },
    {
      "cell_type": "code",
      "source": [
        "forecast_horizon = 14\n",
        "valid_dataset = Dataset.get_by_name(ws, name=\"Github_DAU_valid\", version=\"1\") "
      ],
      "outputs": [],
      "execution_count": 80,
      "metadata": {
        "jupyter": {
          "source_hidden": false,
          "outputs_hidden": false
        },
        "nteract": {
          "transient": {
            "deleting": false
          }
        },
        "gather": {
          "logged": 1695153042852
        }
      }
    },
    {
      "cell_type": "code",
      "source": [
        "from azureml.core import ScriptRunConfig\n",
        "from helper import run_inference\n",
        "\n",
        "test_run = run_inference(\n",
        "    test_experiment,\n",
        "    compute_target,\n",
        "    script_folder,\n",
        "    best_dnn_run,\n",
        "    test_dataset,\n",
        "    valid_dataset,\n",
        "    forecast_horizon,\n",
        "    target_column_name,\n",
        "    time_column_name,\n",
        "    freq,\n",
        ")"
      ],
      "outputs": [],
      "execution_count": 81,
      "metadata": {
        "gather": {
          "logged": 1695153050670
        }
      }
    },
    {
      "cell_type": "code",
      "source": [
        "test_score = test_run.get_metrics()\n",
        "test_score"
      ],
      "outputs": [
        {
          "output_type": "execute_result",
          "execution_count": 83,
          "data": {
            "text/plain": "{'run_algorithm': 'TCNForecaster',\n 'normalized_root_mean_squared_error': 0.05753822711595518,\n 'r2_score': 0.949084720723751,\n 'explained_variance': 0.9504843205853573,\n 'normalized_median_absolute_error': 0.02442372248903968,\n 'normalized_root_mean_squared_log_error': 0.0543844118958176,\n 'root_mean_squared_error': 7835.153001060965,\n 'root_mean_squared_log_error': 0.052857701781269285,\n 'normalized_mean_absolute_error': 0.03714000323992327,\n 'mean_absolute_percentage_error': 3.319931539441126,\n 'spearman_correlation': 0.9653684341488076,\n 'median_absolute_error': 3325.8515625,\n 'mean_absolute_error': 5057.465661190071,\n 'rmse': 7835.153001060965,\n 'mae': 5057.465661190071}"
          },
          "metadata": {}
        }
      ],
      "execution_count": 83,
      "metadata": {
        "jupyter": {
          "source_hidden": false,
          "outputs_hidden": false
        },
        "nteract": {
          "transient": {
            "deleting": false
          }
        },
        "gather": {
          "logged": 1695153142824
        }
      }
    },
    {
      "cell_type": "markdown",
      "source": [
        "look at output of job for predictions"
      ],
      "metadata": {
        "nteract": {
          "transient": {
            "deleting": false
          }
        }
      }
    },
    {
      "cell_type": "markdown",
      "source": [
        "To test other existing automated ML models created, best job or child job, use ModelProxy() to test a model after the main AutoML run has completed. ModelProxy() already returns the predictions and metrics and does not require further processing to retrieve the outputs.\n",
        "\n",
        "Note: ModelProxy is an experimental preview class, and may change at any time.\n",
        "\n",
        "The following code demonstrates how to test a model from any run by using ModelProxy.test() method. In the test() method you have the option to specify if you only want to see the predictions of the test run with the include_predictions_only parameter.\n",
        "\n",
        "source: https://learn.microsoft.com/en-us/AZURE/machine-learning/how-to-configure-auto-train?view=azureml-api-1&tabs=python#test-models-preview"
      ],
      "metadata": {
        "nteract": {
          "transient": {
            "deleting": false
          }
        }
      }
    },
    {
      "cell_type": "code",
      "source": [
        "from azureml.train.automl.model_proxy import ModelProxy\n",
        "\n",
        "model_proxy = ModelProxy(child_run=best_dnn_run, compute_target=compute_target)\n",
        "predictions, metrics = model_proxy.test(test_dataset, include_predictions_only= False\n",
        ")"
      ],
      "outputs": [
        {
          "output_type": "stream",
          "name": "stderr",
          "text": "Class ModelProxy: This is an experimental class, and may change at any time. Please see https://aka.ms/azuremlexperimental for more information.\n"
        }
      ],
      "execution_count": 95,
      "metadata": {
        "jupyter": {
          "source_hidden": false,
          "outputs_hidden": false
        },
        "nteract": {
          "transient": {
            "deleting": false
          }
        },
        "gather": {
          "logged": 1695153835741
        }
      }
    },
    {
      "cell_type": "code",
      "source": [
        "predictions"
      ],
      "outputs": [],
      "execution_count": null,
      "metadata": {
        "jupyter": {
          "source_hidden": false,
          "outputs_hidden": false
        },
        "nteract": {
          "transient": {
            "deleting": false
          }
        },
        "gather": {
          "logged": 1695153840866
        }
      }
    },
    {
      "cell_type": "code",
      "source": [
        "from azureml.core import Workspace, Datastore, Dataset\n",
        "\n",
        "# Connect to your Azure ML workspace\n",
        "workspace = Workspace.from_config()\n",
        "\n",
        "# Define the reference to the file in the datastore\n",
        "datastore_name = \"workspaceblobstore\"  # Update with your datastore name\n",
        "datastore_path = \"ExperimentRun/dcid.bb034-a312-42ea-ae0f-b4be1a/predictions/predictions.csv\"\n",
        "\n",
        "# Get the default datastore\n",
        "default_datastore = Datastore.get(workspace, datastore_name)\n",
        "\n",
        "# Create a Dataset reference to the file\n",
        "datastore_file = [(default_datastore, datastore_path)]\n",
        "dataset = Dataset.Tabular.from_delimited_files(datastore_file)\n",
        "\n",
        "# Load the data into a Pandas DataFrame\n",
        "dfpredictions = dataset.to_pandas_dataframe()\n",
        "dfpredictions.head()"
      ],
      "outputs": [
        {
          "output_type": "execute_result",
          "execution_count": 98,
          "data": {
            "text/plain": "   count_orig  count_predicted       date  _automl_dummy_grain_col  \\\n0      104663    103573.664062 2017-06-04  _automl_dummy_grain_col   \n1      155824    157282.625000 2017-06-05  _automl_dummy_grain_col   \n2      164908    167806.515625 2017-06-06  _automl_dummy_grain_col   \n3      170309    167196.296875 2017-06-07  _automl_dummy_grain_col   \n4      164256    164834.750000 2017-06-08  _automl_dummy_grain_col   \n\n   index_orig  day_of_week_orig  month_of_year_orig  holiday_orig  \\\n0           0               6.0                 5.0           0.0   \n1           1               0.0                 5.0           0.0   \n2           2               1.0                 5.0           0.0   \n3           3               2.0                 5.0           0.0   \n4           4               3.0                 5.0           0.0   \n\n   _automl_target_col_orig  \n0            103573.664062  \n1            157282.625000  \n2            167806.515625  \n3            167196.296875  \n4            164834.750000  ",
            "text/html": "<div>\n<style scoped>\n    .dataframe tbody tr th:only-of-type {\n        vertical-align: middle;\n    }\n\n    .dataframe tbody tr th {\n        vertical-align: top;\n    }\n\n    .dataframe thead th {\n        text-align: right;\n    }\n</style>\n<table border=\"1\" class=\"dataframe\">\n  <thead>\n    <tr style=\"text-align: right;\">\n      <th></th>\n      <th>count_orig</th>\n      <th>count_predicted</th>\n      <th>date</th>\n      <th>_automl_dummy_grain_col</th>\n      <th>index_orig</th>\n      <th>day_of_week_orig</th>\n      <th>month_of_year_orig</th>\n      <th>holiday_orig</th>\n      <th>_automl_target_col_orig</th>\n    </tr>\n  </thead>\n  <tbody>\n    <tr>\n      <th>0</th>\n      <td>104663</td>\n      <td>103573.664062</td>\n      <td>2017-06-04</td>\n      <td>_automl_dummy_grain_col</td>\n      <td>0</td>\n      <td>6.0</td>\n      <td>5.0</td>\n      <td>0.0</td>\n      <td>103573.664062</td>\n    </tr>\n    <tr>\n      <th>1</th>\n      <td>155824</td>\n      <td>157282.625000</td>\n      <td>2017-06-05</td>\n      <td>_automl_dummy_grain_col</td>\n      <td>1</td>\n      <td>0.0</td>\n      <td>5.0</td>\n      <td>0.0</td>\n      <td>157282.625000</td>\n    </tr>\n    <tr>\n      <th>2</th>\n      <td>164908</td>\n      <td>167806.515625</td>\n      <td>2017-06-06</td>\n      <td>_automl_dummy_grain_col</td>\n      <td>2</td>\n      <td>1.0</td>\n      <td>5.0</td>\n      <td>0.0</td>\n      <td>167806.515625</td>\n    </tr>\n    <tr>\n      <th>3</th>\n      <td>170309</td>\n      <td>167196.296875</td>\n      <td>2017-06-07</td>\n      <td>_automl_dummy_grain_col</td>\n      <td>3</td>\n      <td>2.0</td>\n      <td>5.0</td>\n      <td>0.0</td>\n      <td>167196.296875</td>\n    </tr>\n    <tr>\n      <th>4</th>\n      <td>164256</td>\n      <td>164834.750000</td>\n      <td>2017-06-08</td>\n      <td>_automl_dummy_grain_col</td>\n      <td>4</td>\n      <td>3.0</td>\n      <td>5.0</td>\n      <td>0.0</td>\n      <td>164834.750000</td>\n    </tr>\n  </tbody>\n</table>\n</div>"
          },
          "metadata": {}
        }
      ],
      "execution_count": 98,
      "metadata": {
        "jupyter": {
          "source_hidden": false,
          "outputs_hidden": false
        },
        "nteract": {
          "transient": {
            "deleting": false
          }
        },
        "gather": {
          "logged": 1695153931662
        }
      }
    },
    {
      "cell_type": "markdown",
      "source": [
        "***\n",
        "#### **Model Registration**\n",
        "\n",
        "After you test a model and confirm you want to use it in production, you can register it for later use and\n",
        "To register a model from an automated ML run, use the register_model() method."
      ],
      "metadata": {
        "nteract": {
          "transient": {
            "deleting": false
          }
        }
      }
    },
    {
      "cell_type": "markdown",
      "source": [
        "go to setup automl in docs to find guidelines, go deeper via sdk docs (search: register_model sdk azure)"
      ],
      "metadata": {
        "nteract": {
          "transient": {
            "deleting": false
          }
        }
      }
    },
    {
      "cell_type": "code",
      "source": [
        "from azureml.core import Model # new sdk is from azure.ai.ml.entities import Model\n",
        "\n",
        "# Register model\n",
        "best_dnn_run.register_model(model_path='outputs/model.pt', model_name='TCNForecaster-GitHub-dau', # you find this folder path here by going to the best run, and only there the output\n",
        "                        tags={'Training context':'Auto ML'}\n",
        "                        )\n",
        "\n",
        "# List registered models\n",
        "for model in Model.list(ws):\n",
        "    print(model.name, 'version:', model.version)\n",
        "    for tag_name in model.tags:\n",
        "        tag = model.tags[tag_name]\n",
        "        print ('\\t',tag_name, ':', tag)\n",
        "\n",
        "#source: https://learn.microsoft.com/en-us/python/api/azureml-core/azureml.core.model.model?view=azure-ml-py\n",
        "#source: https://learn.microsoft.com/en-us/AZURE/machine-learning/how-to-configure-auto-train?view=azureml-api-1&tabs=python#test-models-preview"
      ],
      "outputs": [
        {
          "output_type": "stream",
          "name": "stdout",
          "text": "TCNForecaster-GitHub-dau version: 1\n\t Training context : Auto ML\nuci-small-tcn-model-202309141713 version: 1\n\t algorithm : TCNForecaster\n\t model_file_name : model.pt\ndiabetes_model version: 2\n\t Training context : Auto ML\nAutoMLe512a9b2d36 version: 1\nautoml_model version: 1\ndiabetes-automl-best version: 1\ndiabetes_model version: 1\n\t Training context : Pipeline\n"
        }
      ],
      "execution_count": 18,
      "metadata": {
        "jupyter": {
          "source_hidden": false,
          "outputs_hidden": false
        },
        "nteract": {
          "transient": {
            "deleting": false
          }
        },
        "gather": {
          "logged": 1695200280170
        }
      }
    }
  ],
  "metadata": {
    "authors": [
      {
        "name": "jialiu"
      }
    ],
    "hide_code_all_hidden": false,
    "kernelspec": {
      "name": "python38-azureml",
      "language": "python",
      "display_name": "Python 3.8 - AzureML"
    },
    "language_info": {
      "name": "python",
      "version": "3.8.5",
      "mimetype": "text/x-python",
      "codemirror_mode": {
        "name": "ipython",
        "version": 3
      },
      "pygments_lexer": "ipython3",
      "nbconvert_exporter": "python",
      "file_extension": ".py"
    },
    "microsoft": {
      "ms_spell_check": {
        "ms_spell_check_language": "en"
      },
      "host": {
        "AzureML": {
          "notebookHasBeenCompleted": true
        }
      }
    },
    "kernel_info": {
      "name": "python38-azureml"
    },
    "nteract": {
      "version": "nteract-front-end@1.0.0"
    }
  },
  "nbformat": 4,
  "nbformat_minor": 4
}